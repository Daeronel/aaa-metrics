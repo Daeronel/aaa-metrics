{
 "cells": [
  {
   "cell_type": "markdown",
   "id": "f2891012",
   "metadata": {},
   "source": [
    "# Удержание клиентов магазина\n",
    "\n",
    "Задание:\n",
    "\n",
    "* К вам приходит руководитель продукта “Интернет-магазин”\n",
    "* И спрашивает про удержание клиентов и повторные покупки\n",
    "* У него есть опасение, что из-за проблем с доставкой товаров в магазине у нас стали больше оттекать пользователи\n",
    "* Он просит вас сравнить, на сколько сейчас все хуже, чем в прошлом году? \n",
    "\n",
    "Данные лежат в папке занятия на сервере:\n",
    "\n",
    "* есть транзакции (покупки) в интернет магазине, в том числе id клиента, id покупки, timestamp покупки и тп\n",
    "* orders.csv, customers.csv  \n",
    "\n",
    "Ваши задачи: \n",
    "\n",
    "* Проверить гипотезу руководителя продукта \n",
    "* Дать руководителю продукта инструмент для самостоятельного принятия решений по качеству удержания пользовательской базы"
   ]
  },
  {
   "cell_type": "code",
   "execution_count": 1,
   "id": "93391690",
   "metadata": {},
   "outputs": [],
   "source": [
    "import pandas as pd \n",
    "import numpy as np\n",
    "import seaborn as sns\n",
    "from matplotlib import pyplot as plt"
   ]
  },
  {
   "cell_type": "markdown",
   "id": "58448108",
   "metadata": {},
   "source": [
    "### 1. Загрузка данных:"
   ]
  },
  {
   "cell_type": "code",
   "execution_count": 2,
   "id": "d55fd48f",
   "metadata": {},
   "outputs": [
    {
     "data": {
      "text/html": [
       "<div>\n",
       "<style scoped>\n",
       "    .dataframe tbody tr th:only-of-type {\n",
       "        vertical-align: middle;\n",
       "    }\n",
       "\n",
       "    .dataframe tbody tr th {\n",
       "        vertical-align: top;\n",
       "    }\n",
       "\n",
       "    .dataframe thead th {\n",
       "        text-align: right;\n",
       "    }\n",
       "</style>\n",
       "<table border=\"1\" class=\"dataframe\">\n",
       "  <thead>\n",
       "    <tr style=\"text-align: right;\">\n",
       "      <th></th>\n",
       "      <th>id</th>\n",
       "      <th>name</th>\n",
       "      <th>segment</th>\n",
       "      <th>state</th>\n",
       "      <th>city</th>\n",
       "    </tr>\n",
       "  </thead>\n",
       "  <tbody>\n",
       "    <tr>\n",
       "      <th>0</th>\n",
       "      <td>CG-12520</td>\n",
       "      <td>Claire Gute</td>\n",
       "      <td>Consumer</td>\n",
       "      <td>Kentucky</td>\n",
       "      <td>Henderson</td>\n",
       "    </tr>\n",
       "    <tr>\n",
       "      <th>1</th>\n",
       "      <td>DV-13045</td>\n",
       "      <td>Darrin Van Huff</td>\n",
       "      <td>Corporate</td>\n",
       "      <td>California</td>\n",
       "      <td>Los Angeles</td>\n",
       "    </tr>\n",
       "    <tr>\n",
       "      <th>2</th>\n",
       "      <td>SO-20335</td>\n",
       "      <td>Sean O'Donnell</td>\n",
       "      <td>Consumer</td>\n",
       "      <td>Florida</td>\n",
       "      <td>Fort Lauderdale</td>\n",
       "    </tr>\n",
       "  </tbody>\n",
       "</table>\n",
       "</div>"
      ],
      "text/plain": [
       "         id             name    segment       state             city\n",
       "0  CG-12520      Claire Gute   Consumer    Kentucky        Henderson\n",
       "1  DV-13045  Darrin Van Huff  Corporate  California      Los Angeles\n",
       "2  SO-20335   Sean O'Donnell   Consumer     Florida  Fort Lauderdale"
      ]
     },
     "execution_count": 2,
     "metadata": {},
     "output_type": "execute_result"
    }
   ],
   "source": [
    "customers = pd.read_csv('customers.csv')\n",
    "customers.head(3)"
   ]
  },
  {
   "cell_type": "code",
   "execution_count": 3,
   "id": "a4a757bd",
   "metadata": {},
   "outputs": [
    {
     "data": {
      "text/html": [
       "<div>\n",
       "<style scoped>\n",
       "    .dataframe tbody tr th:only-of-type {\n",
       "        vertical-align: middle;\n",
       "    }\n",
       "\n",
       "    .dataframe tbody tr th {\n",
       "        vertical-align: top;\n",
       "    }\n",
       "\n",
       "    .dataframe thead th {\n",
       "        text-align: right;\n",
       "    }\n",
       "</style>\n",
       "<table border=\"1\" class=\"dataframe\">\n",
       "  <thead>\n",
       "    <tr style=\"text-align: right;\">\n",
       "      <th></th>\n",
       "      <th>id</th>\n",
       "      <th>order_date</th>\n",
       "      <th>ship_mode</th>\n",
       "      <th>customer_id</th>\n",
       "      <th>sales</th>\n",
       "    </tr>\n",
       "  </thead>\n",
       "  <tbody>\n",
       "    <tr>\n",
       "      <th>0</th>\n",
       "      <td>100006</td>\n",
       "      <td>2014-09-07</td>\n",
       "      <td>Standard</td>\n",
       "      <td>DK-13375</td>\n",
       "      <td>377.970</td>\n",
       "    </tr>\n",
       "    <tr>\n",
       "      <th>1</th>\n",
       "      <td>100090</td>\n",
       "      <td>2014-07-08</td>\n",
       "      <td>Standard</td>\n",
       "      <td>EB-13705</td>\n",
       "      <td>699.192</td>\n",
       "    </tr>\n",
       "    <tr>\n",
       "      <th>2</th>\n",
       "      <td>100293</td>\n",
       "      <td>2014-03-14</td>\n",
       "      <td>Standard</td>\n",
       "      <td>NF-18475</td>\n",
       "      <td>91.056</td>\n",
       "    </tr>\n",
       "  </tbody>\n",
       "</table>\n",
       "</div>"
      ],
      "text/plain": [
       "       id  order_date ship_mode customer_id    sales\n",
       "0  100006  2014-09-07  Standard    DK-13375  377.970\n",
       "1  100090  2014-07-08  Standard    EB-13705  699.192\n",
       "2  100293  2014-03-14  Standard    NF-18475   91.056"
      ]
     },
     "execution_count": 3,
     "metadata": {},
     "output_type": "execute_result"
    }
   ],
   "source": [
    "orders = pd.read_csv('orders.csv')\n",
    "orders.head(3)"
   ]
  },
  {
   "cell_type": "markdown",
   "id": "e79b0c2d",
   "metadata": {},
   "source": [
    "### 2. Исследование исходных данных"
   ]
  },
  {
   "cell_type": "markdown",
   "id": "c371a2bb",
   "metadata": {},
   "source": [
    "Сперва посмотрим на клиентские данные: в дальнейшем можно будет разделить клиентов на когорты по сегментам."
   ]
  },
  {
   "cell_type": "code",
   "execution_count": 4,
   "id": "ea9c1a4a",
   "metadata": {},
   "outputs": [
    {
     "data": {
      "image/png": "[encoded data removed]",
      "text/plain": [
       "<Figure size 432x288 with 1 Axes>"
      ]
     },
     "metadata": {
      "needs_background": "light"
     },
     "output_type": "display_data"
    }
   ],
   "source": [
    "sns.histplot(customers, x = 'segment')\n",
    "plt.title('Распределение клиентов по сегменту')\n",
    "plt.show()"
   ]
  },
  {
   "cell_type": "markdown",
   "id": "71ec5047",
   "metadata": {},
   "source": [
    "Топ 10 штатов:"
   ]
  },
  {
   "cell_type": "code",
   "execution_count": 5,
   "id": "8a3327f9",
   "metadata": {},
   "outputs": [
    {
     "data": {
      "text/html": [
       "<div>\n",
       "<style scoped>\n",
       "    .dataframe tbody tr th:only-of-type {\n",
       "        vertical-align: middle;\n",
       "    }\n",
       "\n",
       "    .dataframe tbody tr th {\n",
       "        vertical-align: top;\n",
       "    }\n",
       "\n",
       "    .dataframe thead th {\n",
       "        text-align: right;\n",
       "    }\n",
       "</style>\n",
       "<table border=\"1\" class=\"dataframe\">\n",
       "  <thead>\n",
       "    <tr style=\"text-align: right;\">\n",
       "      <th></th>\n",
       "      <th>count</th>\n",
       "    </tr>\n",
       "    <tr>\n",
       "      <th>state</th>\n",
       "      <th></th>\n",
       "    </tr>\n",
       "  </thead>\n",
       "  <tbody>\n",
       "    <tr>\n",
       "      <th>California</th>\n",
       "      <td>161</td>\n",
       "    </tr>\n",
       "    <tr>\n",
       "      <th>New York</th>\n",
       "      <td>87</td>\n",
       "    </tr>\n",
       "    <tr>\n",
       "      <th>Texas</th>\n",
       "      <td>77</td>\n",
       "    </tr>\n",
       "    <tr>\n",
       "      <th>Pennsylvania</th>\n",
       "      <td>50</td>\n",
       "    </tr>\n",
       "    <tr>\n",
       "      <th>Illinois</th>\n",
       "      <td>41</td>\n",
       "    </tr>\n",
       "    <tr>\n",
       "      <th>Washington</th>\n",
       "      <td>38</td>\n",
       "    </tr>\n",
       "    <tr>\n",
       "      <th>Ohio</th>\n",
       "      <td>38</td>\n",
       "    </tr>\n",
       "    <tr>\n",
       "      <th>North Carolina</th>\n",
       "      <td>30</td>\n",
       "    </tr>\n",
       "    <tr>\n",
       "      <th>Florida</th>\n",
       "      <td>24</td>\n",
       "    </tr>\n",
       "    <tr>\n",
       "      <th>Arizona</th>\n",
       "      <td>21</td>\n",
       "    </tr>\n",
       "  </tbody>\n",
       "</table>\n",
       "</div>"
      ],
      "text/plain": [
       "                count\n",
       "state                \n",
       "California        161\n",
       "New York           87\n",
       "Texas              77\n",
       "Pennsylvania       50\n",
       "Illinois           41\n",
       "Washington         38\n",
       "Ohio               38\n",
       "North Carolina     30\n",
       "Florida            24\n",
       "Arizona            21"
      ]
     },
     "execution_count": 5,
     "metadata": {},
     "output_type": "execute_result"
    }
   ],
   "source": [
    "(\n",
    "    customers\n",
    "    .groupby('state')\n",
    "    .count()['id']\n",
    "    .sort_values(ascending = False)\n",
    "    .head(10)\n",
    "    .to_frame()\n",
    "    .rename(columns = {'id': 'count'})\n",
    ")"
   ]
  },
  {
   "cell_type": "markdown",
   "id": "7fb26b44",
   "metadata": {},
   "source": [
    "Теперь посмотрим на данные по заказам:"
   ]
  },
  {
   "cell_type": "code",
   "execution_count": 6,
   "id": "7d2bbb69",
   "metadata": {},
   "outputs": [
    {
     "data": {
      "image/png": "[encoded data removed]",
      "text/plain": [
       "<Figure size 720x360 with 1 Axes>"
      ]
     },
     "metadata": {
      "needs_background": "light"
     },
     "output_type": "display_data"
    }
   ],
   "source": [
    "plt.figure(figsize = (10,5))\n",
    "dates = orders.groupby('order_date').count()['customer_id']\n",
    "dates.plot(alpha = 0.4, label = 'Count orders')\n",
    "dates.rolling(7).mean().plot(label = 'Rolling mean (week)')\n",
    "plt.title('Распределение количества заказов по датам')\n",
    "plt.legend()\n",
    "plt.show()"
   ]
  },
  {
   "cell_type": "markdown",
   "id": "76543110",
   "metadata": {},
   "source": [
    "* В предложенном датасете представлены данные с 2014 по 2017. \n",
    "* В данных явно видна сезонность по годам и месяцам"
   ]
  },
  {
   "cell_type": "markdown",
   "id": "a2e43221",
   "metadata": {},
   "source": [
    "Статистики для суммы заказов"
   ]
  },
  {
   "cell_type": "code",
   "execution_count": 7,
   "id": "e8ebf5a0",
   "metadata": {},
   "outputs": [
    {
     "data": {
      "text/html": [
       "<div>\n",
       "<style scoped>\n",
       "    .dataframe tbody tr th:only-of-type {\n",
       "        vertical-align: middle;\n",
       "    }\n",
       "\n",
       "    .dataframe tbody tr th {\n",
       "        vertical-align: top;\n",
       "    }\n",
       "\n",
       "    .dataframe thead th {\n",
       "        text-align: right;\n",
       "    }\n",
       "</style>\n",
       "<table border=\"1\" class=\"dataframe\">\n",
       "  <thead>\n",
       "    <tr style=\"text-align: right;\">\n",
       "      <th></th>\n",
       "      <th>count</th>\n",
       "      <th>mean</th>\n",
       "      <th>std</th>\n",
       "      <th>min</th>\n",
       "      <th>25%</th>\n",
       "      <th>50%</th>\n",
       "      <th>75%</th>\n",
       "      <th>max</th>\n",
       "    </tr>\n",
       "  </thead>\n",
       "  <tbody>\n",
       "    <tr>\n",
       "      <th>sales</th>\n",
       "      <td>5009.0</td>\n",
       "      <td>458.614666</td>\n",
       "      <td>954.730953</td>\n",
       "      <td>0.556</td>\n",
       "      <td>37.63</td>\n",
       "      <td>151.96</td>\n",
       "      <td>512.064</td>\n",
       "      <td>23661.228</td>\n",
       "    </tr>\n",
       "  </tbody>\n",
       "</table>\n",
       "</div>"
      ],
      "text/plain": [
       "        count        mean         std    min    25%     50%      75%  \\\n",
       "sales  5009.0  458.614666  954.730953  0.556  37.63  151.96  512.064   \n",
       "\n",
       "             max  \n",
       "sales  23661.228  "
      ]
     },
     "execution_count": 7,
     "metadata": {},
     "output_type": "execute_result"
    }
   ],
   "source": [
    "orders.sales.describe().to_frame().T"
   ]
  },
  {
   "cell_type": "code",
   "execution_count": 8,
   "id": "c1866896",
   "metadata": {},
   "outputs": [
    {
     "name": "stderr",
     "output_type": "stream",
     "text": [
      "C:\\Users\\Asus\\anaconda3\\lib\\site-packages\\seaborn\\distributions.py:2619: FutureWarning: `distplot` is a deprecated function and will be removed in a future version. Please adapt your code to use either `displot` (a figure-level function with similar flexibility) or `histplot` (an axes-level function for histograms).\n",
      "  warnings.warn(msg, FutureWarning)\n"
     ]
    },
    {
     "data": {
      "image/png": "[encoded data removed]",
      "text/plain": [
       "<Figure size 432x288 with 1 Axes>"
      ]
     },
     "metadata": {
      "needs_background": "light"
     },
     "output_type": "display_data"
    }
   ],
   "source": [
    "sns.distplot(orders.sales, bins = 200)\n",
    "plt.xlim(-100, 5000)\n",
    "plt.title('Распределение чеков')\n",
    "plt.show()"
   ]
  },
  {
   "cell_type": "code",
   "execution_count": 9,
   "id": "817df505",
   "metadata": {},
   "outputs": [
    {
     "data": {
      "image/png": "[encoded data removed]",
      "text/plain": [
       "<Figure size 432x288 with 1 Axes>"
      ]
     },
     "metadata": {
      "needs_background": "light"
     },
     "output_type": "display_data"
    }
   ],
   "source": [
    "sns.histplot(orders, x = 'ship_mode')\n",
    "plt.title('Распределение заказов по типу доставки')\n",
    "plt.show()"
   ]
  },
  {
   "cell_type": "markdown",
   "id": "41094290",
   "metadata": {},
   "source": [
    "### 3. Сравнение параметров за 2 года: "
   ]
  },
  {
   "cell_type": "code",
   "execution_count": 10,
   "id": "d519be42",
   "metadata": {},
   "outputs": [],
   "source": [
    "orders['order_date'] = pd.to_datetime(orders['order_date'])"
   ]
  },
  {
   "cell_type": "markdown",
   "id": "0c5ed54e",
   "metadata": {},
   "source": [
    "**1. Общая сумма и количество заказов**"
   ]
  },
  {
   "cell_type": "code",
   "execution_count": 11,
   "id": "0d306989",
   "metadata": {},
   "outputs": [
    {
     "data": {
      "text/html": [
       "<div>\n",
       "<style scoped>\n",
       "    .dataframe tbody tr th:only-of-type {\n",
       "        vertical-align: middle;\n",
       "    }\n",
       "\n",
       "    .dataframe tbody tr th {\n",
       "        vertical-align: top;\n",
       "    }\n",
       "\n",
       "    .dataframe thead th {\n",
       "        text-align: right;\n",
       "    }\n",
       "</style>\n",
       "<table border=\"1\" class=\"dataframe\">\n",
       "  <thead>\n",
       "    <tr style=\"text-align: right;\">\n",
       "      <th>order_date</th>\n",
       "      <th>2014</th>\n",
       "      <th>2015</th>\n",
       "      <th>2016</th>\n",
       "      <th>2017</th>\n",
       "    </tr>\n",
       "  </thead>\n",
       "  <tbody>\n",
       "    <tr>\n",
       "      <th>sales</th>\n",
       "      <td>484247.0</td>\n",
       "      <td>470533.0</td>\n",
       "      <td>609206.0</td>\n",
       "      <td>733215.0</td>\n",
       "    </tr>\n",
       "  </tbody>\n",
       "</table>\n",
       "</div>"
      ],
      "text/plain": [
       "order_date      2014      2015      2016      2017\n",
       "sales       484247.0  470533.0  609206.0  733215.0"
      ]
     },
     "execution_count": 11,
     "metadata": {},
     "output_type": "execute_result"
    }
   ],
   "source": [
    "orders.groupby(orders.order_date.dt.year).sum()['sales'].to_frame().round().T"
   ]
  },
  {
   "cell_type": "code",
   "execution_count": 12,
   "id": "d707b346",
   "metadata": {},
   "outputs": [
    {
     "data": {
      "text/html": [
       "<div>\n",
       "<style scoped>\n",
       "    .dataframe tbody tr th:only-of-type {\n",
       "        vertical-align: middle;\n",
       "    }\n",
       "\n",
       "    .dataframe tbody tr th {\n",
       "        vertical-align: top;\n",
       "    }\n",
       "\n",
       "    .dataframe thead th {\n",
       "        text-align: right;\n",
       "    }\n",
       "</style>\n",
       "<table border=\"1\" class=\"dataframe\">\n",
       "  <thead>\n",
       "    <tr style=\"text-align: right;\">\n",
       "      <th>order_date</th>\n",
       "      <th>2014</th>\n",
       "      <th>2015</th>\n",
       "      <th>2016</th>\n",
       "      <th>2017</th>\n",
       "    </tr>\n",
       "  </thead>\n",
       "  <tbody>\n",
       "    <tr>\n",
       "      <th>sales</th>\n",
       "      <td>969</td>\n",
       "      <td>1038</td>\n",
       "      <td>1315</td>\n",
       "      <td>1687</td>\n",
       "    </tr>\n",
       "  </tbody>\n",
       "</table>\n",
       "</div>"
      ],
      "text/plain": [
       "order_date  2014  2015  2016  2017\n",
       "sales        969  1038  1315  1687"
      ]
     },
     "execution_count": 12,
     "metadata": {},
     "output_type": "execute_result"
    }
   ],
   "source": [
    "orders.groupby(orders.order_date.dt.year).count()['sales'].to_frame().round().T"
   ]
  },
  {
   "cell_type": "code",
   "execution_count": 13,
   "id": "5a18cb93",
   "metadata": {},
   "outputs": [
    {
     "data": {
      "text/html": [
       "<div>\n",
       "<style scoped>\n",
       "    .dataframe tbody tr th:only-of-type {\n",
       "        vertical-align: middle;\n",
       "    }\n",
       "\n",
       "    .dataframe tbody tr th {\n",
       "        vertical-align: top;\n",
       "    }\n",
       "\n",
       "    .dataframe thead th {\n",
       "        text-align: right;\n",
       "    }\n",
       "</style>\n",
       "<table border=\"1\" class=\"dataframe\">\n",
       "  <thead>\n",
       "    <tr style=\"text-align: right;\">\n",
       "      <th>order_date</th>\n",
       "      <th>2014</th>\n",
       "      <th>2015</th>\n",
       "      <th>2016</th>\n",
       "      <th>2017</th>\n",
       "    </tr>\n",
       "  </thead>\n",
       "  <tbody>\n",
       "    <tr>\n",
       "      <th>sales</th>\n",
       "      <td>500.0</td>\n",
       "      <td>453.0</td>\n",
       "      <td>463.0</td>\n",
       "      <td>435.0</td>\n",
       "    </tr>\n",
       "  </tbody>\n",
       "</table>\n",
       "</div>"
      ],
      "text/plain": [
       "order_date   2014   2015   2016   2017\n",
       "sales       500.0  453.0  463.0  435.0"
      ]
     },
     "execution_count": 13,
     "metadata": {},
     "output_type": "execute_result"
    }
   ],
   "source": [
    "orders.groupby(orders.order_date.dt.year).mean()['sales'].to_frame().round().T"
   ]
  },
  {
   "cell_type": "markdown",
   "id": "171af91a",
   "metadata": {},
   "source": [
    "**2. Сумма и количество заказов по месяцам**"
   ]
  },
  {
   "cell_type": "markdown",
   "id": "e414d90c",
   "metadata": {},
   "source": [
    "Код из этого раздела можно переиспользовать для сравнения двух лет в дальнейшем. Для этого необходимо в следующей ячейке заменить года на нужные. "
   ]
  },
  {
   "cell_type": "code",
   "execution_count": 14,
   "id": "305690b7",
   "metadata": {},
   "outputs": [],
   "source": [
    "first_year = 2016\n",
    "second_year = 2017"
   ]
  },
  {
   "cell_type": "code",
   "execution_count": 15,
   "id": "a3e28e38",
   "metadata": {},
   "outputs": [],
   "source": [
    "first_data = orders.loc[pd.DatetimeIndex(orders['order_date']).year == first_year]\n",
    "second_data = orders.loc[pd.DatetimeIndex(orders['order_date']).year == second_year]"
   ]
  },
  {
   "cell_type": "code",
   "execution_count": 16,
   "id": "93ced2f5",
   "metadata": {},
   "outputs": [
    {
     "data": {
      "image/png": "[encoded data removed]",
      "text/plain": [
       "<Figure size 720x432 with 1 Axes>"
      ]
     },
     "metadata": {
      "needs_background": "light"
     },
     "output_type": "display_data"
    }
   ],
   "source": [
    "df1 = first_data.groupby(pd.DatetimeIndex(first_data['order_date']).month).count()['id'].to_frame().rename(columns = {'id':first_year})\n",
    "df2 = second_data.groupby(pd.DatetimeIndex(second_data['order_date']).month).count()['id'].to_frame().rename(columns = {'id':second_year})\n",
    "\n",
    "df3 = pd.concat([df1.T, df2.T], axis=0, ignore_index=False)\n",
    "\n",
    "df3.T.plot.bar(alpha = 0.7, figsize = (10, 6))\n",
    "plt.title('Количество заказов по месяцам')\n",
    "plt.xlabel('Месяц')\n",
    "plt.ylabel('Количество')\n",
    "plt.show()"
   ]
  },
  {
   "cell_type": "code",
   "execution_count": 17,
   "id": "fa19c64d",
   "metadata": {},
   "outputs": [
    {
     "data": {
      "image/png": "[encoded data removed]",
      "text/plain": [
       "<Figure size 720x432 with 1 Axes>"
      ]
     },
     "metadata": {
      "needs_background": "light"
     },
     "output_type": "display_data"
    }
   ],
   "source": [
    "df1 = first_data.groupby(pd.DatetimeIndex(first_data['order_date']).month).sum()['sales'].to_frame().rename(columns = {'id':first_year})\n",
    "df2 = second_data.groupby(pd.DatetimeIndex(second_data['order_date']).month).sum()['sales'].to_frame().rename(columns = {'id':second_year})\n",
    "\n",
    "df3 = pd.concat([df1.T, df2.T], axis=0, ignore_index=False)\n",
    "\n",
    "df3.T.plot.bar(alpha = 0.7, figsize = (10, 6))\n",
    "plt.title('Сумма заказов по месяцам')\n",
    "plt.xlabel('Месяц')\n",
    "plt.ylabel('Сумма')\n",
    "plt.show()"
   ]
  },
  {
   "cell_type": "markdown",
   "id": "1347a7f5",
   "metadata": {},
   "source": [
    "**Выводы:** \n",
    "* Количество заказов увеличилось\n",
    "* Средняя сумма заказов за год увеличилась, в некоторые месяца становится чуть меньше, но не сильно\n",
    "* Средний чек уменьшился  \n",
    "\n",
    "Можно сделать предположение, что в магазине появились новые клиенты, средний чек которых меньше, чем у старых. "
   ]
  },
  {
   "cell_type": "markdown",
   "id": "5e1f9665",
   "metadata": {},
   "source": [
    "### 3. Исследование данных по клиентам"
   ]
  },
  {
   "cell_type": "markdown",
   "id": "a5857f39",
   "metadata": {},
   "source": [
    "Необходимо разделить пользователей на когорты. \n",
    "* Временем прихода клиента будем считать дату первого заказа. \n",
    "* Ушедшим клиентом будем считать такого, который сделал последний заказ год или больше назад."
   ]
  },
  {
   "cell_type": "markdown",
   "id": "04210814",
   "metadata": {},
   "source": [
    "Для каждого клиента посчитаем даты первого и последнего заказа, а также средний чек и количество заказов."
   ]
  },
  {
   "cell_type": "code",
   "execution_count": 18,
   "id": "b1a6e7fc",
   "metadata": {},
   "outputs": [],
   "source": [
    "agg_dict = {\n",
    "    'order_date' : ['min', 'max'],\n",
    "    'sales' : ['mean', 'count']\n",
    "}"
   ]
  },
  {
   "cell_type": "code",
   "execution_count": 19,
   "id": "bf5e7917",
   "metadata": {},
   "outputs": [],
   "source": [
    "info = orders.groupby('customer_id').agg(agg_dict)"
   ]
  },
  {
   "cell_type": "code",
   "execution_count": 20,
   "id": "be74f61b",
   "metadata": {},
   "outputs": [],
   "source": [
    "info.columns = ['min_order_date', 'max_order_date', 'mean_sales', 'count_sales']"
   ]
  },
  {
   "cell_type": "code",
   "execution_count": 21,
   "id": "82edcb8c",
   "metadata": {},
   "outputs": [],
   "source": [
    "customers_info = customers.merge(info, left_on = 'id', right_on = 'customer_id', how = 'left')"
   ]
  },
  {
   "cell_type": "code",
   "execution_count": 22,
   "id": "967c82be",
   "metadata": {},
   "outputs": [],
   "source": [
    "customers_info['cohort_month'] = pd.to_datetime(customers_info['min_order_date'], infer_datetime_format=True).dt.strftime('%Y-%m') "
   ]
  },
  {
   "cell_type": "code",
   "execution_count": 23,
   "id": "2b07afad",
   "metadata": {},
   "outputs": [],
   "source": [
    "customers_info['cohort_year'] = pd.to_datetime(customers_info['min_order_date'], infer_datetime_format=True).dt.year "
   ]
  },
  {
   "cell_type": "code",
   "execution_count": 24,
   "id": "26ce7a5b",
   "metadata": {},
   "outputs": [
    {
     "data": {
      "image/png": "[encoded data removed]",
      "text/plain": [
       "<Figure size 432x288 with 1 Axes>"
      ]
     },
     "metadata": {
      "needs_background": "light"
     },
     "output_type": "display_data"
    }
   ],
   "source": [
    "customers_info.groupby('segment').mean()['mean_sales'].plot.bar(alpha = 0.6)\n",
    "plt.title('Средний чек по сегментам')\n",
    "plt.show()"
   ]
  },
  {
   "cell_type": "markdown",
   "id": "7f82d92a",
   "metadata": {},
   "source": [
    "Средняя сумма заказа отличается не слишком значительно, поэтому дальше разбиение по ним учитывать не будем. Однако надо отметить, что корпоративные клиенты делают более крупные заказы (это логично)."
   ]
  },
  {
   "cell_type": "markdown",
   "id": "6f4ad0fa",
   "metadata": {},
   "source": [
    "Посмотрим, когда к нам приходили клиенты (распределение по когортам):"
   ]
  },
  {
   "cell_type": "code",
   "execution_count": 25,
   "id": "97f742a2",
   "metadata": {},
   "outputs": [
    {
     "data": {
      "image/png": "[encoded data removed]",
      "text/plain": [
       "<Figure size 720x360 with 1 Axes>"
      ]
     },
     "metadata": {
      "needs_background": "light"
     },
     "output_type": "display_data"
    }
   ],
   "source": [
    "customers_info.groupby('cohort_month').count()['mean_sales'].plot.bar(alpha = 0.6, figsize = (10, 5))\n",
    "plt.title('Количество новых клиентов за месяц')\n",
    "plt.show()"
   ]
  },
  {
   "cell_type": "code",
   "execution_count": 26,
   "id": "24eb83ee",
   "metadata": {},
   "outputs": [
    {
     "data": {
      "image/png": "[encoded data removed]",
      "text/plain": [
       "<Figure size 720x360 with 1 Axes>"
      ]
     },
     "metadata": {
      "needs_background": "light"
     },
     "output_type": "display_data"
    }
   ],
   "source": [
    "customers_info.groupby('cohort_year').count()['mean_sales'].plot.bar(alpha = 0.6, figsize = (10, 5))\n",
    "plt.title('Количество новых клиентов за год')\n",
    "plt.show()"
   ]
  },
  {
   "cell_type": "markdown",
   "id": "6587a5ee",
   "metadata": {},
   "source": [
    "На данный момент еще не выяснили, как дела с оттоком, но с притоком новых клиентов точно что-то не так.  \n",
    "**Приток новых клиентов падает с каждым годом.**"
   ]
  },
  {
   "cell_type": "markdown",
   "id": "c73a1184",
   "metadata": {},
   "source": [
    "### 4. Исследование данных по заказам"
   ]
  },
  {
   "cell_type": "markdown",
   "id": "54f87b82",
   "metadata": {},
   "source": [
    "Основная часть задания: необходимо выяснить, не увеличился ли отток клиентов и совершаются ли в 2017 году повторные заказы."
   ]
  },
  {
   "cell_type": "markdown",
   "id": "b3c16da9",
   "metadata": {},
   "source": [
    "По графикам из п.2 видно, что в целом к концу года количество заказов не падает (а даже растет). Посмотрим теперь именно на повторные заказы."
   ]
  },
  {
   "cell_type": "markdown",
   "id": "371c94a4",
   "metadata": {},
   "source": [
    "**1. Количество повторных заказов**"
   ]
  },
  {
   "cell_type": "code",
   "execution_count": 27,
   "id": "136ad4e0",
   "metadata": {},
   "outputs": [],
   "source": [
    "repeat = orders.groupby(orders.order_date.dt.year).agg({'customer_id': pd.Series.nunique})"
   ]
  },
  {
   "cell_type": "code",
   "execution_count": 28,
   "id": "c2e1a8bb",
   "metadata": {},
   "outputs": [],
   "source": [
    "count = orders.groupby([orders.order_date.dt.year, orders.customer_id]).count()\n",
    "count['year'] = count.index.get_level_values(0)\n",
    "count['ids'] = count.index.get_level_values(1)\n",
    "count = count.loc[count.sales > 1].groupby('year').agg({'ids': pd.Series.nunique})"
   ]
  },
  {
   "cell_type": "code",
   "execution_count": 29,
   "id": "a4b88830",
   "metadata": {},
   "outputs": [],
   "source": [
    "repeat = repeat.merge(count, left_index=True, right_index=True)\n",
    "repeat.columns = ['num_clients', 'repeat_clients']\n",
    "repeat['part'] = (100*repeat.repeat_clients/repeat.num_clients).round()"
   ]
  },
  {
   "cell_type": "code",
   "execution_count": 30,
   "id": "2bfa11c7",
   "metadata": {},
   "outputs": [
    {
     "data": {
      "text/html": [
       "<div>\n",
       "<style scoped>\n",
       "    .dataframe tbody tr th:only-of-type {\n",
       "        vertical-align: middle;\n",
       "    }\n",
       "\n",
       "    .dataframe tbody tr th {\n",
       "        vertical-align: top;\n",
       "    }\n",
       "\n",
       "    .dataframe thead th {\n",
       "        text-align: right;\n",
       "    }\n",
       "</style>\n",
       "<table border=\"1\" class=\"dataframe\">\n",
       "  <thead>\n",
       "    <tr style=\"text-align: right;\">\n",
       "      <th></th>\n",
       "      <th>num_clients</th>\n",
       "      <th>repeat_clients</th>\n",
       "      <th>part</th>\n",
       "    </tr>\n",
       "    <tr>\n",
       "      <th>order_date</th>\n",
       "      <th></th>\n",
       "      <th></th>\n",
       "      <th></th>\n",
       "    </tr>\n",
       "  </thead>\n",
       "  <tbody>\n",
       "    <tr>\n",
       "      <th>2014</th>\n",
       "      <td>595</td>\n",
       "      <td>263</td>\n",
       "      <td>44.0</td>\n",
       "    </tr>\n",
       "    <tr>\n",
       "      <th>2015</th>\n",
       "      <td>573</td>\n",
       "      <td>311</td>\n",
       "      <td>54.0</td>\n",
       "    </tr>\n",
       "    <tr>\n",
       "      <th>2016</th>\n",
       "      <td>638</td>\n",
       "      <td>377</td>\n",
       "      <td>59.0</td>\n",
       "    </tr>\n",
       "    <tr>\n",
       "      <th>2017</th>\n",
       "      <td>693</td>\n",
       "      <td>493</td>\n",
       "      <td>71.0</td>\n",
       "    </tr>\n",
       "  </tbody>\n",
       "</table>\n",
       "</div>"
      ],
      "text/plain": [
       "            num_clients  repeat_clients  part\n",
       "order_date                                   \n",
       "2014                595             263  44.0\n",
       "2015                573             311  54.0\n",
       "2016                638             377  59.0\n",
       "2017                693             493  71.0"
      ]
     },
     "execution_count": 30,
     "metadata": {},
     "output_type": "execute_result"
    }
   ],
   "source": [
    "repeat"
   ]
  },
  {
   "cell_type": "markdown",
   "id": "bf6d1000",
   "metadata": {},
   "source": [
    "Из всех 693 клиентов, которые совершали заказы в 2017 году, около **71%** совершили повторный заказ. "
   ]
  },
  {
   "cell_type": "markdown",
   "id": "f9a126ca",
   "metadata": {},
   "source": [
    "Из всех 693 клиентов, которые совершали заказы в 2016 году, около **59%** совершили повторный заказ. Это меньше, чем в 2017. Значит, ситуация с повторными заказами в 2017 даже улучшилась."
   ]
  },
  {
   "cell_type": "markdown",
   "id": "10e88d21",
   "metadata": {},
   "source": [
    "Я не разбивала на когорты в этом пункте. Целью было проверить гипотезу о том, что проблемы с доставкой в 2017 повлияли на совершение заказов. А этот фактор может оказывать одинаковое влияние как на вновь пришедших, так и на старых клиентов. К тому же, в 2017 году пришло только 11 новых клиентов - выборка не репрезентативна."
   ]
  },
  {
   "cell_type": "markdown",
   "id": "6cf2c904",
   "metadata": {},
   "source": [
    "**2. Отток клиентов**"
   ]
  },
  {
   "cell_type": "code",
   "execution_count": 31,
   "id": "4a3e0f46",
   "metadata": {},
   "outputs": [],
   "source": [
    "orders_info = orders.merge(customers_info, left_on = 'customer_id', right_on = 'id', how = 'left')\n",
    "orders_info['order_year'] = orders_info.order_date.dt.year\n",
    "orders_info['order_month'] = orders_info.order_date.dt.strftime('%Y-%m')"
   ]
  },
  {
   "cell_type": "code",
   "execution_count": 32,
   "id": "9185a9db",
   "metadata": {},
   "outputs": [],
   "source": [
    "def cohort_column(df):\n",
    "    df['cohort_period'] = np.arange(len(df))\n",
    "    return df"
   ]
  },
  {
   "cell_type": "code",
   "execution_count": 33,
   "id": "8dfc86a8",
   "metadata": {},
   "outputs": [],
   "source": [
    "orders_year = (orders_info\n",
    "                  .groupby(['cohort_year', 'order_year']).agg({'customer_id': pd.Series.nunique})\n",
    "                  .groupby(level=0).apply(cohort_column)\n",
    "                  .rename(columns = {'customer_id': 'unique_customers'})\n",
    "                  .reset_index()\n",
    "                  .set_index(['cohort_year', 'cohort_period']) \n",
    "               )\n",
    "cohort_group_size = orders_year['unique_customers'].groupby(level=0).first()\n",
    "user_retention = orders_year['unique_customers'].unstack(0).divide(cohort_group_size, axis=1)"
   ]
  },
  {
   "cell_type": "code",
   "execution_count": 34,
   "id": "80f86b43",
   "metadata": {},
   "outputs": [
    {
     "data": {
      "image/png": "[encoded data removed]",
      "text/plain": [
       "<Figure size 720x432 with 2 Axes>"
      ]
     },
     "metadata": {},
     "output_type": "display_data"
    }
   ],
   "source": [
    "sns.set(style='white')\n",
    "plt.figure(figsize=(10, 6))\n",
    "plt.title('Удержание клиентов по когортам')\n",
    "sns.heatmap(user_retention.T, mask=user_retention.T.isnull(), annot=True, fmt='.0%')\n",
    "plt.show()"
   ]
  },
  {
   "cell_type": "markdown",
   "id": "855328a2",
   "metadata": {},
   "source": [
    "Аналогичная диаграмма с разбиением по месяцам бесполезна - в когортах 2016 и 2017 слишком мало людей. Но на основе этой диаграммы можно сделать вывод - в 2017 году не было проблем с оттоком клиентов, более того - старые клиенты стали совершать больше заказов."
   ]
  },
  {
   "cell_type": "markdown",
   "id": "a13a7245",
   "metadata": {},
   "source": [
    "**3. Средний чек по годам и когортам**"
   ]
  },
  {
   "cell_type": "markdown",
   "id": "d56347cb",
   "metadata": {},
   "source": [
    "Ранее заметили, что уменьшился средний чек. Посмотрим подробнее:"
   ]
  },
  {
   "cell_type": "code",
   "execution_count": 35,
   "id": "4ad28fe2",
   "metadata": {},
   "outputs": [],
   "source": [
    "orders_sales = (orders_info\n",
    "                  .groupby(['cohort_year', 'order_year']).mean()['sales']\n",
    "                  .to_frame()\n",
    "                  .groupby(level=0).apply(cohort_column)\n",
    "                  .reset_index()\n",
    "                  .set_index(['cohort_year', 'cohort_period']) \n",
    "               )\n",
    "\n",
    "mean_sales = orders_sales['sales'].unstack(0).round(2)"
   ]
  },
  {
   "cell_type": "code",
   "execution_count": 36,
   "id": "d8d40485",
   "metadata": {},
   "outputs": [
    {
     "data": {
      "text/html": [
       "<div>\n",
       "<style scoped>\n",
       "    .dataframe tbody tr th:only-of-type {\n",
       "        vertical-align: middle;\n",
       "    }\n",
       "\n",
       "    .dataframe tbody tr th {\n",
       "        vertical-align: top;\n",
       "    }\n",
       "\n",
       "    .dataframe thead th {\n",
       "        text-align: right;\n",
       "    }\n",
       "</style>\n",
       "<table border=\"1\" class=\"dataframe\">\n",
       "  <thead>\n",
       "    <tr style=\"text-align: right;\">\n",
       "      <th>cohort_year</th>\n",
       "      <th>2014</th>\n",
       "      <th>2015</th>\n",
       "      <th>2016</th>\n",
       "      <th>2017</th>\n",
       "    </tr>\n",
       "    <tr>\n",
       "      <th>cohort_period</th>\n",
       "      <th></th>\n",
       "      <th></th>\n",
       "      <th></th>\n",
       "      <th></th>\n",
       "    </tr>\n",
       "  </thead>\n",
       "  <tbody>\n",
       "    <tr>\n",
       "      <th>0</th>\n",
       "      <td>499.74</td>\n",
       "      <td>456.23</td>\n",
       "      <td>526.96</td>\n",
       "      <td>395.36</td>\n",
       "    </tr>\n",
       "    <tr>\n",
       "      <th>1</th>\n",
       "      <td>452.47</td>\n",
       "      <td>462.76</td>\n",
       "      <td>479.58</td>\n",
       "      <td>NaN</td>\n",
       "    </tr>\n",
       "    <tr>\n",
       "      <th>2</th>\n",
       "      <td>456.74</td>\n",
       "      <td>449.74</td>\n",
       "      <td>NaN</td>\n",
       "      <td>NaN</td>\n",
       "    </tr>\n",
       "    <tr>\n",
       "      <th>3</th>\n",
       "      <td>427.10</td>\n",
       "      <td>NaN</td>\n",
       "      <td>NaN</td>\n",
       "      <td>NaN</td>\n",
       "    </tr>\n",
       "  </tbody>\n",
       "</table>\n",
       "</div>"
      ],
      "text/plain": [
       "cohort_year      2014    2015    2016    2017\n",
       "cohort_period                                \n",
       "0              499.74  456.23  526.96  395.36\n",
       "1              452.47  462.76  479.58     NaN\n",
       "2              456.74  449.74     NaN     NaN\n",
       "3              427.10     NaN     NaN     NaN"
      ]
     },
     "execution_count": 36,
     "metadata": {},
     "output_type": "execute_result"
    }
   ],
   "source": [
    "mean_sales"
   ]
  },
  {
   "cell_type": "code",
   "execution_count": 37,
   "id": "28727547",
   "metadata": {},
   "outputs": [
    {
     "data": {
      "image/png": "[encoded data removed]",
      "text/plain": [
       "<Figure size 720x432 with 2 Axes>"
      ]
     },
     "metadata": {},
     "output_type": "display_data"
    }
   ],
   "source": [
    "sns.set(style='white')\n",
    "plt.figure(figsize=(10, 6))\n",
    "plt.title('Средний чек по когортам')\n",
    "sns.heatmap(mean_sales.T, mask=mean_sales.T.isnull(), annot=True, fmt='.2f')\n",
    "plt.show()"
   ]
  },
  {
   "cell_type": "markdown",
   "id": "e14786ec",
   "metadata": {},
   "source": [
    "В 2017 году средний чек уменьшился у всех когорт пользователей!"
   ]
  },
  {
   "cell_type": "markdown",
   "id": "5e6fa6f8",
   "metadata": {},
   "source": [
    "## Выводы: "
   ]
  },
  {
   "cell_type": "markdown",
   "id": "d9ba2170",
   "metadata": {},
   "source": [
    "Ответы на поставленные вопросы:\n",
    "* **Отток клиентов не наблюдается** - наоборот, старые клиенты стали делать больше заказов.\n",
    "* **Повторных заказов в данном году больше**, чем в предыдущем.  \n",
    "\n",
    "Следовательно, проблемы с доставкой не оказали существенного влияния на эти показатели.  \n",
    "\n",
    "Однако, в ходе исследования обнаружились другие проблемы: \n",
    "* **Приток новых клиентов значительно падает** каждый год.\n",
    "* В данном году **средний чек снизился** по всем клиентам по сравнению с прошлыми годами.\n",
    "\n",
    "Скорее всего они не были вызваны проблемами с доставкой, необходимо искать причины в другом."
   ]
  },
  {
   "cell_type": "markdown",
   "id": "ba918eca",
   "metadata": {},
   "source": [
    "**Инструмент для аналитики**"
   ]
  },
  {
   "cell_type": "markdown",
   "id": "436bf70c",
   "metadata": {},
   "source": [
    "Данный ноутбук оформлен таким образом, чтобы его можно было переиспользовать на дополненных данных. Он содержит таблицы и диаграммы со следующими метриками:\n",
    "* Количество заказов по месяцам\n",
    "* Сумма заказов по месяцам\n",
    "* Общая сумма, количество и средний чек заказов\n",
    "* Доля клиентов, сделавших повторный заказ\n",
    "* Приток клиентов по месяцам и годам\n",
    "* Удержание клиентов по годовым когортам\n",
    "* Средний чек по годовым когортам\n",
    "\n",
    "Они позволяют составить представление о положении, в котором находится продукт (интернет-магазин)"
   ]
  },
  {
   "cell_type": "code",
   "execution_count": null,
   "id": "327bb814",
   "metadata": {},
   "outputs": [],
   "source": []
  }
 ],
 "metadata": {
  "kernelspec": {
   "display_name": "Python 3 (ipykernel)",
   "language": "python",
   "name": "python3"
  },
  "language_info": {
   "codemirror_mode": {
    "name": "ipython",
    "version": 3
   },
   "file_extension": ".py",
   "mimetype": "text/x-python",
   "name": "python",
   "nbconvert_exporter": "python",
   "pygments_lexer": "ipython3",
   "version": "3.9.7"
  }
 },
 "nbformat": 4,
 "nbformat_minor": 5
}
